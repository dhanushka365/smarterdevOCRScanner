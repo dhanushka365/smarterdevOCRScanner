{
 "cells": [
  {
   "cell_type": "code",
   "execution_count": 12,
   "id": "655f0728-3a66-4d78-9d2b-38a4a948dab7",
   "metadata": {},
   "outputs": [],
   "source": [
    "import cv2\n",
    "import predictions as pred\n",
    "image = cv2.imread('./test_templates/Alendemeltest.png')\n",
    "\n",
    "# Create a window to display the image\n",
    "cv2.namedWindow('original', cv2.WINDOW_NORMAL)\n",
    "\n",
    "# Display the image in the window\n",
    "cv2.imshow('original', image)\n",
    "\n",
    "# Wait indefinitely for a key press\n",
    "cv2.waitKey(0)\n",
    "\n",
    "# Close all windows after key press\n",
    "cv2.destroyAllWindows()\n"
   ]
  },
  {
   "cell_type": "code",
   "execution_count": 14,
   "id": "eb4344b1-2db9-4d6b-ae21-94b7a5629e9e",
   "metadata": {},
   "outputs": [
    {
     "name": "stdout",
     "output_type": "stream",
     "text": [
      "OCR Content: Alan de Maid WORKS ORDER To Srarter Appliances Ltd Date 23/05/2024 M Stedeford ‘Order BROS-16009551 386-137 High Street SHracombe ‘Ordered By Jeri Davison Bromley PMC BG4 SEZ Con.Fax Access tenant Key Return Keys Please execute the Appliance - Repairs at oionods24 Property 000004324 11 Hilda Vale Close ‘Orpington BRE TAH Contact Ms Stephanie Susan Sawyer 07742 677619 Cooker in WHITE - Hotpoint Indesit -£649VAT Delivery, Installation and Removal - £125 VAT. Stoptap Please contact the office below with a quotation prior to carrying out any works. Required By As this works order has been placed on behalf of the Landlord, your invoice MUST be addressed directly to the Landlord Mr John Worton jo Bromley ADM and Alan de Maid Bromley 18 East Street, Bromey ent BR 1QE L_ _ PLEASE EMAIL / SEND ALL INVOICES TO THE OFFICE ADDRESS BELOW OFFICE ADDRESS 19 East Street, Bromley, Kent, BRI 1QE PHONE 02084667172 FAX 0208 4666331 E-MAIL lettings@alandemaid.co.uk\n"
     ]
    },
    {
     "ename": "error",
     "evalue": "OpenCV(4.10.0) :-1: error: (-5:Bad argument) in function 'putText'\n> Overload resolution failed:\n>  - Can't convert object to 'str' for 'text'\n>  - Can't convert object to 'str' for 'text'\n",
     "output_type": "error",
     "traceback": [
      "\u001b[1;31m---------------------------------------------------------------------------\u001b[0m",
      "\u001b[1;31merror\u001b[0m                                     Traceback (most recent call last)",
      "Cell \u001b[1;32mIn[14], line 1\u001b[0m\n\u001b[1;32m----> 1\u001b[0m img_results, entities \u001b[38;5;241m=\u001b[39m \u001b[43mpred\u001b[49m\u001b[38;5;241;43m.\u001b[39;49m\u001b[43mgetPredictions\u001b[49m\u001b[43m(\u001b[49m\u001b[43mimage\u001b[49m\u001b[43m)\u001b[49m\n\u001b[0;32m      3\u001b[0m \u001b[38;5;66;03m# Create a window to display the image\u001b[39;00m\n\u001b[0;32m      4\u001b[0m cv2\u001b[38;5;241m.\u001b[39mnamedWindow(\u001b[38;5;124m'\u001b[39m\u001b[38;5;124mpredictions\u001b[39m\u001b[38;5;124m'\u001b[39m, cv2\u001b[38;5;241m.\u001b[39mWINDOW_NORMAL)\n",
      "File \u001b[1;32mD:\\smarterdevOCRScanner\\1_WorkOrderNER\\predictions.py:115\u001b[0m, in \u001b[0;36mgetPredictions\u001b[1;34m(image)\u001b[0m\n\u001b[0;32m    113\u001b[0m \u001b[38;5;28;01mfor\u001b[39;00m l, r, t, b, label, token \u001b[38;5;129;01min\u001b[39;00m img_tagging\u001b[38;5;241m.\u001b[39mvalues:\n\u001b[0;32m    114\u001b[0m     cv2\u001b[38;5;241m.\u001b[39mrectangle(img_bb, (l, t), (r, b), (\u001b[38;5;241m0\u001b[39m, \u001b[38;5;241m255\u001b[39m, \u001b[38;5;241m0\u001b[39m), \u001b[38;5;241m2\u001b[39m)\n\u001b[1;32m--> 115\u001b[0m     \u001b[43mcv2\u001b[49m\u001b[38;5;241;43m.\u001b[39;49m\u001b[43mputText\u001b[49m\u001b[43m(\u001b[49m\u001b[43mimg_bb\u001b[49m\u001b[43m,\u001b[49m\u001b[43m \u001b[49m\u001b[43mlabel\u001b[49m\u001b[43m,\u001b[49m\u001b[43m \u001b[49m\u001b[43m(\u001b[49m\u001b[43ml\u001b[49m\u001b[43m,\u001b[49m\u001b[43m \u001b[49m\u001b[43mt\u001b[49m\u001b[43m)\u001b[49m\u001b[43m,\u001b[49m\u001b[43m \u001b[49m\u001b[43mcv2\u001b[49m\u001b[38;5;241;43m.\u001b[39;49m\u001b[43mFONT_HERSHEY_PLAIN\u001b[49m\u001b[43m,\u001b[49m\u001b[43m \u001b[49m\u001b[38;5;241;43m1\u001b[39;49m\u001b[43m,\u001b[49m\u001b[43m \u001b[49m\u001b[43m(\u001b[49m\u001b[38;5;241;43m255\u001b[39;49m\u001b[43m,\u001b[49m\u001b[43m \u001b[49m\u001b[38;5;241;43m0\u001b[39;49m\u001b[43m,\u001b[49m\u001b[43m \u001b[49m\u001b[38;5;241;43m255\u001b[39;49m\u001b[43m)\u001b[49m\u001b[43m,\u001b[49m\u001b[43m \u001b[49m\u001b[38;5;241;43m2\u001b[39;49m\u001b[43m)\u001b[49m\n\u001b[0;32m    117\u001b[0m info_array \u001b[38;5;241m=\u001b[39m dataframe_info[[\u001b[38;5;124m'\u001b[39m\u001b[38;5;124mtoken\u001b[39m\u001b[38;5;124m'\u001b[39m, \u001b[38;5;124m'\u001b[39m\u001b[38;5;124mlabel\u001b[39m\u001b[38;5;124m'\u001b[39m]]\u001b[38;5;241m.\u001b[39mvalues\n\u001b[0;32m    118\u001b[0m entities \u001b[38;5;241m=\u001b[39m {\n\u001b[0;32m    119\u001b[0m     \u001b[38;5;124m'\u001b[39m\u001b[38;5;124mPAYMENTBYERPHONE\u001b[39m\u001b[38;5;124m'\u001b[39m: [], \u001b[38;5;124m'\u001b[39m\u001b[38;5;124mPAYMENTBYERFAX\u001b[39m\u001b[38;5;124m'\u001b[39m: [], \u001b[38;5;124m'\u001b[39m\u001b[38;5;124mPAYMENTBYEREMAIL\u001b[39m\u001b[38;5;124m'\u001b[39m: [], \u001b[38;5;124m'\u001b[39m\u001b[38;5;124mPAYMENTCOMPANYNAME\u001b[39m\u001b[38;5;124m'\u001b[39m: [],\n\u001b[0;32m    120\u001b[0m     \u001b[38;5;124m'\u001b[39m\u001b[38;5;124mPAYMENTBYERADDRESS\u001b[39m\u001b[38;5;124m'\u001b[39m: [], \u001b[38;5;124m'\u001b[39m\u001b[38;5;124mPAYMENTBYERNAME\u001b[39m\u001b[38;5;124m'\u001b[39m: [], \u001b[38;5;124m'\u001b[39m\u001b[38;5;124mORDERDATE\u001b[39m\u001b[38;5;124m'\u001b[39m: [], \u001b[38;5;124m'\u001b[39m\u001b[38;5;124mACCESSKEY\u001b[39m\u001b[38;5;124m'\u001b[39m: [], \n\u001b[0;32m    121\u001b[0m     \u001b[38;5;124m'\u001b[39m\u001b[38;5;124mFAULTDETAIL\u001b[39m\u001b[38;5;124m'\u001b[39m: [], \u001b[38;5;124m'\u001b[39m\u001b[38;5;124mINSTRUCTIONNOTES\u001b[39m\u001b[38;5;124m'\u001b[39m: [], \u001b[38;5;124m'\u001b[39m\u001b[38;5;124mSHIPPINGNAME\u001b[39m\u001b[38;5;124m'\u001b[39m: [], \u001b[38;5;124m'\u001b[39m\u001b[38;5;124mSHIPPINGPHONE\u001b[39m\u001b[38;5;124m'\u001b[39m: [],\n\u001b[0;32m    122\u001b[0m     \u001b[38;5;124m'\u001b[39m\u001b[38;5;124mSHIPPINGSTREET\u001b[39m\u001b[38;5;124m'\u001b[39m: [], \u001b[38;5;124m'\u001b[39m\u001b[38;5;124mPAYMENTBILLINGNAME\u001b[39m\u001b[38;5;124m'\u001b[39m: [], \u001b[38;5;124m'\u001b[39m\u001b[38;5;124mPAYMENTPONUMBER\u001b[39m\u001b[38;5;124m'\u001b[39m: []\n\u001b[0;32m    123\u001b[0m }\n",
      "\u001b[1;31merror\u001b[0m: OpenCV(4.10.0) :-1: error: (-5:Bad argument) in function 'putText'\n> Overload resolution failed:\n>  - Can't convert object to 'str' for 'text'\n>  - Can't convert object to 'str' for 'text'\n"
     ]
    }
   ],
   "source": [
    "img_results, entities = pred.getPredictions(image)\n",
    "\n",
    "# Create a window to display the image\n",
    "cv2.namedWindow('predictions', cv2.WINDOW_NORMAL)\n",
    "\n",
    "# Display the image in the window\n",
    "cv2.imshow('predictions', img_results)\n",
    "\n",
    "# Wait indefinitely for a key press\n",
    "cv2.waitKey(0)\n",
    "\n",
    "# Close all windows after key press\n",
    "cv2.destroyAllWindows()"
   ]
  },
  {
   "cell_type": "code",
   "execution_count": null,
   "id": "c1c5c46c-49eb-49e0-bb57-ff82efaecdd4",
   "metadata": {},
   "outputs": [],
   "source": []
  }
 ],
 "metadata": {
  "kernelspec": {
   "display_name": "Python 3 (ipykernel)",
   "language": "python",
   "name": "python3"
  },
  "language_info": {
   "codemirror_mode": {
    "name": "ipython",
    "version": 3
   },
   "file_extension": ".py",
   "mimetype": "text/x-python",
   "name": "python",
   "nbconvert_exporter": "python",
   "pygments_lexer": "ipython3",
   "version": "3.12.4"
  }
 },
 "nbformat": 4,
 "nbformat_minor": 5
}
