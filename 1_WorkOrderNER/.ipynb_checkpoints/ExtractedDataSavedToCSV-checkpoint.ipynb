{
 "cells": [
  {
   "cell_type": "code",
   "execution_count": 4,
   "id": "7b455059-2834-4952-a8c0-6e6189fbb6ba",
   "metadata": {},
   "outputs": [
    {
     "name": "stderr",
     "output_type": "stream",
     "text": [
      "WorkOrder: 39it [08:38, 13.28s/it]"
     ]
    },
    {
     "name": "stdout",
     "output_type": "stream",
     "text": [
      "OCR completed.\n"
     ]
    },
    {
     "name": "stderr",
     "output_type": "stream",
     "text": [
      "\n"
     ]
    }
   ],
   "source": [
    "import os\n",
    "import pandas as pd\n",
    "import cv2\n",
    "import pytesseract\n",
    "from tqdm import tqdm\n",
    "from pathlib import Path\n",
    "\n",
    "# Path to the folder containing images\n",
    "image_folder = Path(r'D:\\smarterdevOCRScanner\\templates\\images')\n",
    "\n",
    "# Check if the folder exists\n",
    "if not image_folder.exists():\n",
    "    print(f\"The folder {image_folder} does not exist. Please check the path.\")\n",
    "else:\n",
    "    # Initialize DataFrame\n",
    "    allWorkOrder = pd.DataFrame(columns=['id', 'text'])\n",
    "\n",
    "    # Iterate through each file in the folder\n",
    "    for img_path in tqdm(image_folder.iterdir(), desc='WorkOrder'):\n",
    "        # Only process files with .png extension (case-insensitive)\n",
    "        if img_path.is_file() and img_path.suffix.lower() == '.png':\n",
    "            # Load and process the image\n",
    "            img = cv2.imread(str(img_path))\n",
    "            \n",
    "            # Preprocessing\n",
    "            img_cv = cv2.cvtColor(img, cv2.COLOR_RGB2BGR)\n",
    "            img_gray = cv2.cvtColor(img_cv, cv2.COLOR_BGR2GRAY)\n",
    "            img_thresh = cv2.adaptiveThreshold(img_gray, 255, cv2.ADAPTIVE_THRESH_GAUSSIAN_C, cv2.THRESH_BINARY, 11, 2)\n",
    "            img_denoised = cv2.fastNlMeansDenoising(img_thresh, None, 30, 7, 21)\n",
    "            \n",
    "            # OCR Extraction\n",
    "            data = pytesseract.image_to_data(img_denoised)\n",
    "            dataList = list(map(lambda x: x.split('\\t'), data.split('\\n')))\n",
    "            df = pd.DataFrame(dataList[1:], columns=dataList[0])\n",
    "            df.dropna(inplace=True)\n",
    "\n",
    "            # Convert 'conf' to float and then to int\n",
    "            try:\n",
    "                df['conf'] = df['conf'].astype(float).astype(int)\n",
    "            except ValueError:\n",
    "                print(f\"Error converting 'conf' values: {df['conf'].unique()}\")\n",
    "\n",
    "            useFulData = df.query('conf >= 30')\n",
    "\n",
    "            # Dataframe\n",
    "            workOrder = pd.DataFrame()\n",
    "            workOrder['text'] = useFulData['text']\n",
    "            workOrder['id'] = img_path.name\n",
    "            \n",
    "            # Concatenate\n",
    "            allWorkOrder = pd.concat((allWorkOrder, workOrder))\n",
    "\n",
    "    # Save the results to a CSV file\n",
    "    allWorkOrder.to_csv('workOrders.csv', index=False)\n",
    "    print(\"OCR completed.\")\n"
   ]
  },
  {
   "cell_type": "code",
   "execution_count": null,
   "id": "464392a9-e79a-4b95-aece-d05dd9968d8a",
   "metadata": {},
   "outputs": [],
   "source": []
  }
 ],
 "metadata": {
  "kernelspec": {
   "display_name": "Python 3 (ipykernel)",
   "language": "python",
   "name": "python3"
  },
  "language_info": {
   "codemirror_mode": {
    "name": "ipython",
    "version": 3
   },
   "file_extension": ".py",
   "mimetype": "text/x-python",
   "name": "python",
   "nbconvert_exporter": "python",
   "pygments_lexer": "ipython3",
   "version": "3.12.4"
  }
 },
 "nbformat": 4,
 "nbformat_minor": 5
}
