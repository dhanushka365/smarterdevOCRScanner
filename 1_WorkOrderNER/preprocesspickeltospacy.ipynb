{
 "cells": [
  {
   "cell_type": "code",
   "execution_count": 1,
   "id": "c05fea5d-eb6c-42a4-85da-3f8f86328b05",
   "metadata": {},
   "outputs": [],
   "source": [
    "import spacy\n",
    "from spacy.tokens import DocBin\n",
    "import pickle\n",
    "\n",
    "nlp = spacy.blank(\"en\")\n",
    "\n",
    "# Load Data\n",
    "training_data = pickle.load(open('./data/TrainData.pickle','rb'))\n",
    "testing_data = pickle.load(open('./data/TestData.pickle','rb'))\n",
    "#print(training_data)\n",
    "\n",
    "# the DocBin will store the example documents\n",
    "db = DocBin()\n",
    "for text, annotations in training_data:\n",
    "    doc = nlp(text)\n",
    "    ents = []\n",
    "    for start, end, label in annotations['entities']:\n",
    "        span = doc.char_span(start, end, label=label)\n",
    "        ents.append(span)\n",
    "    doc.ents = ents\n",
    "    db.add(doc)\n",
    "db.to_disk(\"./data/train.spacy\")\n",
    "\n",
    "\n",
    "# the DocBin will store the example documents\n",
    "db_test = DocBin()\n",
    "for text, annotations in testing_data:\n",
    "    doc = nlp(text)\n",
    "    ents = []\n",
    "    for start, end, label in annotations['entities']:\n",
    "        span = doc.char_span(start, end, label=label)\n",
    "        ents.append(span)\n",
    "    doc.ents = ents\n",
    "    db_test.add(doc)\n",
    "db_test.to_disk(\"./data/test.spacy\")"
   ]
  },
  {
   "cell_type": "code",
   "execution_count": null,
   "id": "2df9e910-bbf9-4d9a-8fad-80fa18189333",
   "metadata": {},
   "outputs": [],
   "source": []
  }
 ],
 "metadata": {
  "kernelspec": {
   "display_name": "Python 3 (ipykernel)",
   "language": "python",
   "name": "python3"
  },
  "language_info": {
   "codemirror_mode": {
    "name": "ipython",
    "version": 3
   },
   "file_extension": ".py",
   "mimetype": "text/x-python",
   "name": "python",
   "nbconvert_exporter": "python",
   "pygments_lexer": "ipython3",
   "version": "3.12.4"
  }
 },
 "nbformat": 4,
 "nbformat_minor": 5
}
